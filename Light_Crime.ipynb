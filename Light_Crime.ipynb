{
 "cells": [
  {
   "cell_type": "code",
   "execution_count": 23,
   "metadata": {},
   "outputs": [],
   "source": [
    "import pandas as pd\n",
    "import numpy as np\n",
    "\n",
    "%matplotlib inline"
   ]
  },
  {
   "cell_type": "markdown",
   "metadata": {},
   "source": [
    "### Importing and reformatting the data we are working with"
   ]
  },
  {
   "cell_type": "code",
   "execution_count": 35,
   "metadata": {},
   "outputs": [
    {
     "data": {
      "text/html": [
       "<div>\n",
       "<style scoped>\n",
       "    .dataframe tbody tr th:only-of-type {\n",
       "        vertical-align: middle;\n",
       "    }\n",
       "\n",
       "    .dataframe tbody tr th {\n",
       "        vertical-align: top;\n",
       "    }\n",
       "\n",
       "    .dataframe thead th {\n",
       "        text-align: right;\n",
       "    }\n",
       "</style>\n",
       "<table border=\"1\" class=\"dataframe\">\n",
       "  <thead>\n",
       "    <tr style=\"text-align: right;\">\n",
       "      <th></th>\n",
       "      <th>Citations</th>\n",
       "    </tr>\n",
       "    <tr>\n",
       "      <th>Neighborhood</th>\n",
       "      <th></th>\n",
       "    </tr>\n",
       "  </thead>\n",
       "  <tbody>\n",
       "    <tr>\n",
       "      <th>Allegheny Center</th>\n",
       "      <td>117</td>\n",
       "    </tr>\n",
       "    <tr>\n",
       "      <th>Allegheny West</th>\n",
       "      <td>12</td>\n",
       "    </tr>\n",
       "    <tr>\n",
       "      <th>Allentown</th>\n",
       "      <td>91</td>\n",
       "    </tr>\n",
       "    <tr>\n",
       "      <th>Arlington</th>\n",
       "      <td>37</td>\n",
       "    </tr>\n",
       "    <tr>\n",
       "      <th>Arlington Heights</th>\n",
       "      <td>5</td>\n",
       "    </tr>\n",
       "  </tbody>\n",
       "</table>\n",
       "</div>"
      ],
      "text/plain": [
       "                   Citations\n",
       "Neighborhood                \n",
       "Allegheny Center         117\n",
       "Allegheny West            12\n",
       "Allentown                 91\n",
       "Arlington                 37\n",
       "Arlington Heights          5"
      ]
     },
     "execution_count": 35,
     "metadata": {},
     "output_type": "execute_result"
    }
   ],
   "source": [
    "#Non-traffic Citations\n",
    "pgh_citations = pd.read_csv(\"https://data.wprdc.org/datastore/dump/6b11e87d-1216-463d-bbd3-37460e539d86\",\n",
    "                                index_col=\"CITEDTIME\",\n",
    "                                parse_dates=True)\n",
    "\n",
    "pop_data = pd.read_csv('total-population.csv', index_col=\"Neighborhood\")\n",
    "\n",
    "#Reformat\n",
    "\n",
    "pgh_citations = pgh_citations.rename(columns={'NEIGHBORHOOD':'Neighborhood', 'OFFENSES':'Citations'})\n",
    "citation_data = pgh_citations.loc[:,[\"Citations\",\"Neighborhood\"]].groupby('Neighborhood').count()\n",
    "citation_data.head()"
   ]
  },
  {
   "cell_type": "markdown",
   "metadata": {},
   "source": [
    "### Adding population & Citations per Capita\n",
    "If we only look at the number of citations, we completely ignore the fact that **more people = more crime**. Thus, we will look at the ratio of crime to people. We add the population onto our data frame, and, from here, we divide the number of citations by the estimated population to get the number of citations per person in the neighborhood."
   ]
  },
  {
   "cell_type": "code",
   "execution_count": 36,
   "metadata": {},
   "outputs": [
    {
     "data": {
      "text/html": [
       "<div>\n",
       "<style scoped>\n",
       "    .dataframe tbody tr th:only-of-type {\n",
       "        vertical-align: middle;\n",
       "    }\n",
       "\n",
       "    .dataframe tbody tr th {\n",
       "        vertical-align: top;\n",
       "    }\n",
       "\n",
       "    .dataframe thead th {\n",
       "        text-align: right;\n",
       "    }\n",
       "</style>\n",
       "<table border=\"1\" class=\"dataframe\">\n",
       "  <thead>\n",
       "    <tr style=\"text-align: right;\">\n",
       "      <th></th>\n",
       "      <th>Citations</th>\n",
       "      <th>Estimated Population</th>\n",
       "      <th>Citations per Capita</th>\n",
       "    </tr>\n",
       "    <tr>\n",
       "      <th>Neighborhood</th>\n",
       "      <th></th>\n",
       "      <th></th>\n",
       "      <th></th>\n",
       "    </tr>\n",
       "  </thead>\n",
       "  <tbody>\n",
       "    <tr>\n",
       "      <th>Allegheny Center</th>\n",
       "      <td>117</td>\n",
       "      <td>1411.0</td>\n",
       "      <td>0.082920</td>\n",
       "    </tr>\n",
       "    <tr>\n",
       "      <th>Allegheny West</th>\n",
       "      <td>12</td>\n",
       "      <td>343.0</td>\n",
       "      <td>0.034985</td>\n",
       "    </tr>\n",
       "    <tr>\n",
       "      <th>Allentown</th>\n",
       "      <td>91</td>\n",
       "      <td>2558.0</td>\n",
       "      <td>0.035575</td>\n",
       "    </tr>\n",
       "    <tr>\n",
       "      <th>Arlington</th>\n",
       "      <td>37</td>\n",
       "      <td>1852.0</td>\n",
       "      <td>0.019978</td>\n",
       "    </tr>\n",
       "    <tr>\n",
       "      <th>Arlington Heights</th>\n",
       "      <td>5</td>\n",
       "      <td>272.0</td>\n",
       "      <td>0.018382</td>\n",
       "    </tr>\n",
       "  </tbody>\n",
       "</table>\n",
       "</div>"
      ],
      "text/plain": [
       "                   Citations  Estimated Population  Citations per Capita\n",
       "Neighborhood                                                            \n",
       "Allegheny Center         117                1411.0              0.082920\n",
       "Allegheny West            12                 343.0              0.034985\n",
       "Allentown                 91                2558.0              0.035575\n",
       "Arlington                 37                1852.0              0.019978\n",
       "Arlington Heights          5                 272.0              0.018382"
      ]
     },
     "execution_count": 36,
     "metadata": {},
     "output_type": "execute_result"
    }
   ],
   "source": [
    "population = pop_data.loc[:,\"Estimate; Total\"]\n",
    "citation_data['Estimated Population'] = population\n",
    "citation_data['Citations per Capita'] = citation_data.loc[:,\"Citations\"]/citation_data.loc[:,'Estimated Population']\n",
    "citation_data.dropna()\n",
    "citation_data.head()"
   ]
  },
  {
   "cell_type": "markdown",
   "metadata": {},
   "source": [
    "### Filter\n",
    "To make plotting nicer (**actually readable**), we drop all neighborhoods with more than 5 citations per 1000 people."
   ]
  },
  {
   "cell_type": "code",
   "execution_count": 44,
   "metadata": {},
   "outputs": [
    {
     "data": {
      "text/html": [
       "<div>\n",
       "<style scoped>\n",
       "    .dataframe tbody tr th:only-of-type {\n",
       "        vertical-align: middle;\n",
       "    }\n",
       "\n",
       "    .dataframe tbody tr th {\n",
       "        vertical-align: top;\n",
       "    }\n",
       "\n",
       "    .dataframe thead th {\n",
       "        text-align: right;\n",
       "    }\n",
       "</style>\n",
       "<table border=\"1\" class=\"dataframe\">\n",
       "  <thead>\n",
       "    <tr style=\"text-align: right;\">\n",
       "      <th></th>\n",
       "      <th>Citations</th>\n",
       "      <th>Estimated Population</th>\n",
       "      <th>Citations per Capita</th>\n",
       "    </tr>\n",
       "    <tr>\n",
       "      <th>Neighborhood</th>\n",
       "      <th></th>\n",
       "      <th></th>\n",
       "      <th></th>\n",
       "    </tr>\n",
       "  </thead>\n",
       "  <tbody>\n",
       "    <tr>\n",
       "      <th>Stanton Heights</th>\n",
       "      <td>8</td>\n",
       "      <td>4761.0</td>\n",
       "      <td>0.001680</td>\n",
       "    </tr>\n",
       "    <tr>\n",
       "      <th>Duquesne Heights</th>\n",
       "      <td>5</td>\n",
       "      <td>2522.0</td>\n",
       "      <td>0.001983</td>\n",
       "    </tr>\n",
       "    <tr>\n",
       "      <th>Swisshelm Park</th>\n",
       "      <td>4</td>\n",
       "      <td>1345.0</td>\n",
       "      <td>0.002974</td>\n",
       "    </tr>\n",
       "    <tr>\n",
       "      <th>Ridgemont</th>\n",
       "      <td>1</td>\n",
       "      <td>314.0</td>\n",
       "      <td>0.003185</td>\n",
       "    </tr>\n",
       "    <tr>\n",
       "      <th>Highland Park</th>\n",
       "      <td>25</td>\n",
       "      <td>6810.0</td>\n",
       "      <td>0.003671</td>\n",
       "    </tr>\n",
       "    <tr>\n",
       "      <th>St. Clair</th>\n",
       "      <td>1</td>\n",
       "      <td>270.0</td>\n",
       "      <td>0.003704</td>\n",
       "    </tr>\n",
       "    <tr>\n",
       "      <th>Oakwood</th>\n",
       "      <td>4</td>\n",
       "      <td>1058.0</td>\n",
       "      <td>0.003781</td>\n",
       "    </tr>\n",
       "    <tr>\n",
       "      <th>Banksville</th>\n",
       "      <td>16</td>\n",
       "      <td>3858.0</td>\n",
       "      <td>0.004147</td>\n",
       "    </tr>\n",
       "    <tr>\n",
       "      <th>Summer Hill</th>\n",
       "      <td>5</td>\n",
       "      <td>1191.0</td>\n",
       "      <td>0.004198</td>\n",
       "    </tr>\n",
       "    <tr>\n",
       "      <th>Fairywood</th>\n",
       "      <td>5</td>\n",
       "      <td>1181.0</td>\n",
       "      <td>0.004234</td>\n",
       "    </tr>\n",
       "    <tr>\n",
       "      <th>Morningside</th>\n",
       "      <td>15</td>\n",
       "      <td>3262.0</td>\n",
       "      <td>0.004598</td>\n",
       "    </tr>\n",
       "    <tr>\n",
       "      <th>Westwood</th>\n",
       "      <td>17</td>\n",
       "      <td>3537.0</td>\n",
       "      <td>0.004806</td>\n",
       "    </tr>\n",
       "  </tbody>\n",
       "</table>\n",
       "</div>"
      ],
      "text/plain": [
       "                  Citations  Estimated Population  Citations per Capita\n",
       "Neighborhood                                                           \n",
       "Stanton Heights           8                4761.0              0.001680\n",
       "Duquesne Heights          5                2522.0              0.001983\n",
       "Swisshelm Park            4                1345.0              0.002974\n",
       "Ridgemont                 1                 314.0              0.003185\n",
       "Highland Park            25                6810.0              0.003671\n",
       "St. Clair                 1                 270.0              0.003704\n",
       "Oakwood                   4                1058.0              0.003781\n",
       "Banksville               16                3858.0              0.004147\n",
       "Summer Hill               5                1191.0              0.004198\n",
       "Fairywood                 5                1181.0              0.004234\n",
       "Morningside              15                3262.0              0.004598\n",
       "Westwood                 17                3537.0              0.004806"
      ]
     },
     "execution_count": 44,
     "metadata": {},
     "output_type": "execute_result"
    }
   ],
   "source": [
    "citation_data_filtered = citation_data[citation_data['Citations per Capita']<.005].sort_values('Citations per Capita')\n",
    "citation_data_filtered"
   ]
  },
  {
   "cell_type": "code",
   "execution_count": 45,
   "metadata": {},
   "outputs": [
    {
     "data": {
      "text/plain": [
       "<matplotlib.axes._subplots.AxesSubplot at 0x7fddf0cb86d8>"
      ]
     },
     "execution_count": 45,
     "metadata": {},
     "output_type": "execute_result"
    },
    {
     "data": {
      "image/png": "[encoded data removed]",
      "text/plain": [
       "<Figure size 432x288 with 1 Axes>"
      ]
     },
     "metadata": {
      "needs_background": "light"
     },
     "output_type": "display_data"
    }
   ],
   "source": [
    "citation_data_filtered.loc[:,'Citations per Capita'].plot(kind=\"bar\", title = \"Citations per Capita\", rot=45)"
   ]
  },
  {
   "cell_type": "code",
   "execution_count": null,
   "metadata": {},
   "outputs": [],
   "source": []
  }
 ],
 "metadata": {
  "kernelspec": {
   "display_name": "Python 3.7",
   "language": "python",
   "name": "python3"
  },
  "language_info": {
   "codemirror_mode": {
    "name": "ipython",
    "version": 3
   },
   "file_extension": ".py",
   "mimetype": "text/x-python",
   "name": "python",
   "nbconvert_exporter": "python",
   "pygments_lexer": "ipython3",
   "version": "3.7.0"
  }
 },
 "nbformat": 4,
 "nbformat_minor": 4
}
