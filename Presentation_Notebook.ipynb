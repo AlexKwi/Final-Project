{
 "cells": [
  {
   "cell_type": "markdown",
   "metadata": {},
   "source": [
    "### **The Code**"
   ]
  },
  {
   "cell_type": "markdown",
   "metadata": {},
   "source": [
    "#### As per usual..."
   ]
  },
  {
   "cell_type": "code",
   "execution_count": 1,
   "metadata": {},
   "outputs": [],
   "source": [
    "import pandas as pd\n",
    "import numpy as np\n",
    "%matplotlib inline"
   ]
  },
  {
   "cell_type": "markdown",
   "metadata": {},
   "source": [
    "#### Adding the data sets"
   ]
  },
  {
   "cell_type": "code",
   "execution_count": 2,
   "metadata": {},
   "outputs": [],
   "source": [
    "# Pittsburgh Police Arrest Data\n",
    "pgh_arrest_data = pd.read_csv(\"https://data.wprdc.org/datastore/dump/e03a89dd-134a-4ee8-a2bd-62c40aeebc6f\",\n",
    "                           index_col=\"ARRESTTIME\", \n",
    "                           parse_dates=True)\n",
    "\n",
    "#Non-traffic Citations\n",
    "pgh_citations = pd.read_csv(\"https://data.wprdc.org/datastore/dump/6b11e87d-1216-463d-bbd3-37460e539d86\",\n",
    "                                index_col=\"CITEDTIME\",\n",
    "                                parse_dates=True)\n",
    "\n",
    "# Pittsburgh American Community Survey 2015 - Miscellaneous Data \n",
    "pop_data = pd.read_csv(\"total-population.csv\", index_col=\"Neighborhood\")\n",
    "\n",
    "# Pittsburgh American Community Survey 2015, School Enrollment \n",
    "school_enrollment = pd.read_csv('school-enrollment-by-detailed-level-of-school-for-the-population-3-years-and-over.csv', index_col=\"Neighborhood\")"
   ]
  },
  {
   "cell_type": "markdown",
   "metadata": {},
   "source": [
    "#### Reformatting the data sets to select only the stuff that we need as well as making them look nicer"
   ]
  },
  {
   "cell_type": "code",
   "execution_count": 3,
   "metadata": {},
   "outputs": [],
   "source": [
    "# Reformat arrest data\n",
    "pgh_arrest_data = pgh_arrest_data.rename(columns={'INCIDENTNEIGHBORHOOD':'Neighborhood', 'OFFENSES':'Offenses'})\n",
    "arrest_data = pgh_arrest_data.loc[:,[\"Offenses\",\"Neighborhood\"]].groupby('Neighborhood').count()\n",
    "\n",
    "# Reformat citation data\n",
    "pgh_citations = pgh_citations.rename(columns={'NEIGHBORHOOD':'Neighborhood', 'OFFENSES':'Citations'})\n",
    "citation_data = pgh_citations.loc[:,[\"Citations\",\"Neighborhood\"]].groupby('Neighborhood').count()\n",
    "\n",
    "# Reformat school data\n",
    "school_data = school_enrollment.loc[:,[\"Estimate; Total:\", \"Estimate; Not enrolled in school\"]]"
   ]
  },
  {
   "cell_type": "markdown",
   "metadata": {},
   "source": [
    "#### Adding Population & Calculating Rates (Dropping All NAN)"
   ]
  },
  {
   "cell_type": "code",
   "execution_count": 5,
   "metadata": {},
   "outputs": [],
   "source": [
    "population = pop_data.loc[:,\"Estimate; Total\"]\n",
    "citation_data['Estimated Population'] = population\n",
    "citation_data['Citations per Capita'] = citation_data.loc[:,\"Citations\"]/citation_data.loc[:,'Estimated Population']\n",
    "citation_data.dropna()\n",
    "\n",
    "arrest_data['Estimated Population'] = population\n",
    "arrest_data['Offenses per Capita'] = arrest_data.loc[:,\"Offenses\"]/arrest_data.loc[:,'Estimated Population']\n",
    "arrest_data.dropna()\n",
    "\n",
    "school_data[\"Ratio not enrolled\"] = school_data.loc[:,\"Estimate; Not enrolled in school\"]/school_data.loc[:,\"Estimate; Total:\"]"
   ]
  },
  {
   "cell_type": "markdown",
   "metadata": {},
   "source": [
    "#### Now lets look at the data"
   ]
  },
  {
   "cell_type": "code",
   "execution_count": 6,
   "metadata": {},
   "outputs": [
    {
     "data": {
      "text/html": [
       "<div>\n",
       "<style scoped>\n",
       "    .dataframe tbody tr th:only-of-type {\n",
       "        vertical-align: middle;\n",
       "    }\n",
       "\n",
       "    .dataframe tbody tr th {\n",
       "        vertical-align: top;\n",
       "    }\n",
       "\n",
       "    .dataframe thead th {\n",
       "        text-align: right;\n",
       "    }\n",
       "</style>\n",
       "<table border=\"1\" class=\"dataframe\">\n",
       "  <thead>\n",
       "    <tr style=\"text-align: right;\">\n",
       "      <th></th>\n",
       "      <th>Offenses</th>\n",
       "      <th>Estimated Population</th>\n",
       "      <th>Offenses per Capita</th>\n",
       "    </tr>\n",
       "    <tr>\n",
       "      <th>Neighborhood</th>\n",
       "      <th></th>\n",
       "      <th></th>\n",
       "      <th></th>\n",
       "    </tr>\n",
       "  </thead>\n",
       "  <tbody>\n",
       "    <tr>\n",
       "      <th>Allegheny Center</th>\n",
       "      <td>663</td>\n",
       "      <td>1411.0</td>\n",
       "      <td>0.469880</td>\n",
       "    </tr>\n",
       "    <tr>\n",
       "      <th>Allegheny West</th>\n",
       "      <td>76</td>\n",
       "      <td>343.0</td>\n",
       "      <td>0.221574</td>\n",
       "    </tr>\n",
       "    <tr>\n",
       "      <th>Allentown</th>\n",
       "      <td>546</td>\n",
       "      <td>2558.0</td>\n",
       "      <td>0.213448</td>\n",
       "    </tr>\n",
       "    <tr>\n",
       "      <th>Arlington</th>\n",
       "      <td>169</td>\n",
       "      <td>1852.0</td>\n",
       "      <td>0.091253</td>\n",
       "    </tr>\n",
       "    <tr>\n",
       "      <th>Arlington Heights</th>\n",
       "      <td>101</td>\n",
       "      <td>272.0</td>\n",
       "      <td>0.371324</td>\n",
       "    </tr>\n",
       "  </tbody>\n",
       "</table>\n",
       "</div>"
      ],
      "text/plain": [
       "                   Offenses  Estimated Population  Offenses per Capita\n",
       "Neighborhood                                                          \n",
       "Allegheny Center        663                1411.0             0.469880\n",
       "Allegheny West           76                 343.0             0.221574\n",
       "Allentown               546                2558.0             0.213448\n",
       "Arlington               169                1852.0             0.091253\n",
       "Arlington Heights       101                 272.0             0.371324"
      ]
     },
     "execution_count": 6,
     "metadata": {},
     "output_type": "execute_result"
    }
   ],
   "source": [
    "arrest_data.head()"
   ]
  },
  {
   "cell_type": "code",
   "execution_count": 7,
   "metadata": {},
   "outputs": [
    {
     "data": {
      "text/html": [
       "<div>\n",
       "<style scoped>\n",
       "    .dataframe tbody tr th:only-of-type {\n",
       "        vertical-align: middle;\n",
       "    }\n",
       "\n",
       "    .dataframe tbody tr th {\n",
       "        vertical-align: top;\n",
       "    }\n",
       "\n",
       "    .dataframe thead th {\n",
       "        text-align: right;\n",
       "    }\n",
       "</style>\n",
       "<table border=\"1\" class=\"dataframe\">\n",
       "  <thead>\n",
       "    <tr style=\"text-align: right;\">\n",
       "      <th></th>\n",
       "      <th>Citations</th>\n",
       "      <th>Estimated Population</th>\n",
       "      <th>Citations per Capita</th>\n",
       "    </tr>\n",
       "    <tr>\n",
       "      <th>Neighborhood</th>\n",
       "      <th></th>\n",
       "      <th></th>\n",
       "      <th></th>\n",
       "    </tr>\n",
       "  </thead>\n",
       "  <tbody>\n",
       "    <tr>\n",
       "      <th>Allegheny Center</th>\n",
       "      <td>118</td>\n",
       "      <td>1411.0</td>\n",
       "      <td>0.083629</td>\n",
       "    </tr>\n",
       "    <tr>\n",
       "      <th>Allegheny West</th>\n",
       "      <td>12</td>\n",
       "      <td>343.0</td>\n",
       "      <td>0.034985</td>\n",
       "    </tr>\n",
       "    <tr>\n",
       "      <th>Allentown</th>\n",
       "      <td>91</td>\n",
       "      <td>2558.0</td>\n",
       "      <td>0.035575</td>\n",
       "    </tr>\n",
       "    <tr>\n",
       "      <th>Arlington</th>\n",
       "      <td>37</td>\n",
       "      <td>1852.0</td>\n",
       "      <td>0.019978</td>\n",
       "    </tr>\n",
       "    <tr>\n",
       "      <th>Arlington Heights</th>\n",
       "      <td>5</td>\n",
       "      <td>272.0</td>\n",
       "      <td>0.018382</td>\n",
       "    </tr>\n",
       "  </tbody>\n",
       "</table>\n",
       "</div>"
      ],
      "text/plain": [
       "                   Citations  Estimated Population  Citations per Capita\n",
       "Neighborhood                                                            \n",
       "Allegheny Center         118                1411.0              0.083629\n",
       "Allegheny West            12                 343.0              0.034985\n",
       "Allentown                 91                2558.0              0.035575\n",
       "Arlington                 37                1852.0              0.019978\n",
       "Arlington Heights          5                 272.0              0.018382"
      ]
     },
     "execution_count": 7,
     "metadata": {},
     "output_type": "execute_result"
    }
   ],
   "source": [
    "citation_data.head()"
   ]
  },
  {
   "cell_type": "code",
   "execution_count": 8,
   "metadata": {},
   "outputs": [
    {
     "data": {
      "text/html": [
       "<div>\n",
       "<style scoped>\n",
       "    .dataframe tbody tr th:only-of-type {\n",
       "        vertical-align: middle;\n",
       "    }\n",
       "\n",
       "    .dataframe tbody tr th {\n",
       "        vertical-align: top;\n",
       "    }\n",
       "\n",
       "    .dataframe thead th {\n",
       "        text-align: right;\n",
       "    }\n",
       "</style>\n",
       "<table border=\"1\" class=\"dataframe\">\n",
       "  <thead>\n",
       "    <tr style=\"text-align: right;\">\n",
       "      <th></th>\n",
       "      <th>Estimate; Total:</th>\n",
       "      <th>Estimate; Not enrolled in school</th>\n",
       "      <th>Ratio not enrolled</th>\n",
       "    </tr>\n",
       "    <tr>\n",
       "      <th>Neighborhood</th>\n",
       "      <th></th>\n",
       "      <th></th>\n",
       "      <th></th>\n",
       "    </tr>\n",
       "  </thead>\n",
       "  <tbody>\n",
       "    <tr>\n",
       "      <th>Allegheny Center</th>\n",
       "      <td>1389.0</td>\n",
       "      <td>995.0</td>\n",
       "      <td>0.716343</td>\n",
       "    </tr>\n",
       "    <tr>\n",
       "      <th>Allegheny West</th>\n",
       "      <td>343.0</td>\n",
       "      <td>282.0</td>\n",
       "      <td>0.822157</td>\n",
       "    </tr>\n",
       "    <tr>\n",
       "      <th>Allentown</th>\n",
       "      <td>2520.0</td>\n",
       "      <td>1555.0</td>\n",
       "      <td>0.617063</td>\n",
       "    </tr>\n",
       "    <tr>\n",
       "      <th>Arlington</th>\n",
       "      <td>1823.0</td>\n",
       "      <td>1396.0</td>\n",
       "      <td>0.765771</td>\n",
       "    </tr>\n",
       "    <tr>\n",
       "      <th>Arlington Heights</th>\n",
       "      <td>213.0</td>\n",
       "      <td>173.0</td>\n",
       "      <td>0.812207</td>\n",
       "    </tr>\n",
       "  </tbody>\n",
       "</table>\n",
       "</div>"
      ],
      "text/plain": [
       "                   Estimate; Total:  Estimate; Not enrolled in school  \\\n",
       "Neighborhood                                                            \n",
       "Allegheny Center             1389.0                             995.0   \n",
       "Allegheny West                343.0                             282.0   \n",
       "Allentown                    2520.0                            1555.0   \n",
       "Arlington                    1823.0                            1396.0   \n",
       "Arlington Heights             213.0                             173.0   \n",
       "\n",
       "                   Ratio not enrolled  \n",
       "Neighborhood                           \n",
       "Allegheny Center             0.716343  \n",
       "Allegheny West               0.822157  \n",
       "Allentown                    0.617063  \n",
       "Arlington                    0.765771  \n",
       "Arlington Heights            0.812207  "
      ]
     },
     "execution_count": 8,
     "metadata": {},
     "output_type": "execute_result"
    }
   ],
   "source": [
    "school_data.head()"
   ]
  },
  {
   "cell_type": "code",
   "execution_count": 13,
   "metadata": {},
   "outputs": [
    {
     "ename": "SyntaxError",
     "evalue": "keyword can't be an expression (<ipython-input-13-b37269b4789f>, line 1)",
     "output_type": "error",
     "traceback": [
      "\u001b[0;36m  File \u001b[0;32m\"<ipython-input-13-b37269b4789f>\"\u001b[0;36m, line \u001b[0;32m1\u001b[0m\n\u001b[0;31m    arrest_data.loc[:,[\"Offenses per Capita\"]].sort_values(by=['Offenses per Capita'], ascending=True).plot(kind='bar', font.size= 22, figsize=(100,50))\u001b[0m\n\u001b[0m                                                                                                                       ^\u001b[0m\n\u001b[0;31mSyntaxError\u001b[0m\u001b[0;31m:\u001b[0m keyword can't be an expression\n"
     ]
    }
   ],
   "source": [
    "arrest_data.loc[:,[\"Offenses per Capita\"]].sort_values(by=['Offenses per Capita'], ascending=True).plot(kind='bar', font.siz figsize=(100,50))"
   ]
  },
  {
   "cell_type": "code",
   "execution_count": null,
   "metadata": {},
   "outputs": [],
   "source": []
  }
 ],
 "metadata": {
  "kernelspec": {
   "display_name": "Python 3.7",
   "language": "python",
   "name": "python3"
  },
  "language_info": {
   "codemirror_mode": {
    "name": "ipython",
    "version": 3
   },
   "file_extension": ".py",
   "mimetype": "text/x-python",
   "name": "python",
   "nbconvert_exporter": "python",
   "pygments_lexer": "ipython3",
   "version": "3.7.0"
  }
 },
 "nbformat": 4,
 "nbformat_minor": 4
}
